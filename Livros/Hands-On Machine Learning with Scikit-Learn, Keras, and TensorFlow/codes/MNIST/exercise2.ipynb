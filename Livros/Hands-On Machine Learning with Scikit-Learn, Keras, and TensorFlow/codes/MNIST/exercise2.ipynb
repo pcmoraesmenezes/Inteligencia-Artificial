{
 "cells": [
  {
   "cell_type": "code",
   "execution_count": 1,
   "metadata": {},
   "outputs": [
    {
     "name": "stdout",
     "output_type": "stream",
     "text": [
      "Requirement already satisfied: scipy in /home/pcmoraes/Desktop/codigos/Inteligencia-Artificial/Livros/Hands-On Machine Learning with Scikit-Learn, Keras, and TensorFlow/.venv/lib/python3.12/site-packages (1.14.1)\n",
      "Requirement already satisfied: numpy<2.3,>=1.23.5 in /home/pcmoraes/Desktop/codigos/Inteligencia-Artificial/Livros/Hands-On Machine Learning with Scikit-Learn, Keras, and TensorFlow/.venv/lib/python3.12/site-packages (from scipy) (2.1.1)\n"
     ]
    }
   ],
   "source": [
    "!pip install scipy"
   ]
  },
  {
   "cell_type": "code",
   "execution_count": 3,
   "metadata": {},
   "outputs": [],
   "source": [
    "from scipy.ndimage import shift"
   ]
  },
  {
   "cell_type": "code",
   "execution_count": 4,
   "metadata": {},
   "outputs": [],
   "source": [
    "def shift_image(image, dx, dy):\n",
    "    image = image.reshape((28, 28))\n",
    "    shifted_image = shift(image, [dy, dx], cval=0, mode=\"constant\")\n",
    "    return shifted_image.reshape([-1])"
   ]
  },
  {
   "cell_type": "markdown",
   "metadata": {},
   "source": [
    "Explaning the function:\n",
    "\n",
    "```python\n",
    "\n",
    "def shift_image(image, dx, dy):\n",
    "    image = image.reshape((28, 28))\n",
    "    shifted_image = shift(image, [dy, dx], cval=0, mode=\"constant\")\n",
    "    return shifted_image.reshape([-1])\n",
    "\n",
    "```\n",
    "\n",
    "The function `shift_image` takes an image and shifts it by `dx` pixels to the right and `dy` pixels down. It uses the `shift` function from `scipy.ndimage` to do the shifting. The `cval=0` argument is used to fill the shifted pixels with black pixels. The `mode=\"constant\"` argument is used to fill the shifted pixels with the `cval` argument. The function returns the shifted image as a 1D array.\n",
    "\n",
    "Args:\n",
    "\n",
    "- `image`: A 1D array representing an image.\n",
    "\n",
    "- `dx`: The number of pixels to shift the image to the right.\n",
    "\n",
    "- `dy`: The number of pixels to shift the image down.\n",
    "\n",
    "Returns:\n",
    "\n",
    "- A 1D array representing the shifted image.\n",
    "\n",
    "The function is used to create new training examples by shifting the original training examples by a few pixels in different directions. This helps to increase the size of the training set and improve the performance of the model."
   ]
  }
 ],
 "metadata": {
  "kernelspec": {
   "display_name": ".venv",
   "language": "python",
   "name": "python3"
  },
  "language_info": {
   "codemirror_mode": {
    "name": "ipython",
    "version": 3
   },
   "file_extension": ".py",
   "mimetype": "text/x-python",
   "name": "python",
   "nbconvert_exporter": "python",
   "pygments_lexer": "ipython3",
   "version": "3.12.3"
  }
 },
 "nbformat": 4,
 "nbformat_minor": 2
}
