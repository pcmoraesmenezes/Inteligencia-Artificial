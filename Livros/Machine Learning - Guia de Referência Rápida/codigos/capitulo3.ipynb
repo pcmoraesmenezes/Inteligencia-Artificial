{
 "cells": [
  {
   "cell_type": "code",
   "execution_count": 11,
   "metadata": {},
   "outputs": [],
   "source": [
    "import matplotlib.pyplot as plt\n",
    "import pandas as pd\n",
    "from sklearn import (\n",
    "    ensemble,\n",
    "    preprocessing,\n",
    "    tree,\n",
    ")\n",
    "\n",
    "from sklearn.metrics import (\n",
    "    auc,\n",
    "    confusion_matrix,\n",
    "    roc_auc_score,\n",
    "    roc_curve,\n",
    ")\n",
    "\n",
    "from sklearn.model_selection import (\n",
    "    train_test_split,\n",
    "    StratifiedKFold,\n",
    ")\n",
    "\n",
    "from yellowbrick.classifier import (\n",
    "    ConfusionMatrix,\n",
    "    ROCAUC,\n",
    ")\n",
    "\n",
    "from yellowbrick.model_selection import (\n",
    "    LearningCurve,\n",
    ")\n",
    "\n",
    "from pathlib import Path"
   ]
  },
  {
   "cell_type": "code",
   "execution_count": 13,
   "metadata": {},
   "outputs": [],
   "source": [
    "ROOT_FILE = Path.cwd().parent\n",
    "DATA_FILE = ROOT_FILE / \"datasets\" / \"titanic3.csv\""
   ]
  },
  {
   "cell_type": "markdown",
   "metadata": {},
   "source": [
    "Yellow Brick é uma biblioteca de visualização e diagnóstico para aprendizado de máquina que visa capacitar os usuários a visualizar os processos internos de seus modelos de aprendizado de máquina e permitir que eles tomem decisões mais informadas durante o processo de modelagem, facilitando a compreensão das forças e fraquezas de seus modelos."
   ]
  },
  {
   "cell_type": "markdown",
   "metadata": {},
   "source": [
    "## Faça uma pergunta\n",
    "\n",
    "Essa corresponde a primeira etapa do processo de machine learning, onde você deve se perguntar o que deseja descobrir com os dados que possui. Para o exemplo do livro, será criado um modelo preditivo para responder uma pergunta: O indivíduo sobreviveu ou não ao naufrágio do Titanic? Terá-se como base os dados de passageiros do navio, como idade, sexo, classe social, etc.\n",
    "\n",
    "É uma pergunta de classificação, pois estamos fazendo a predição de um rotulo, que é a sobrevivência ou não do passageiro. Se fosse uma pergunta de regressão, seria algo como: Qual a idade do passageiro?"
   ]
  },
  {
   "cell_type": "markdown",
   "metadata": {},
   "source": [
    "## Colete os dados\n",
    "\n",
    "A segunda etapa é a coleta dos dados, que pode ser feita de diversas formas, como por exemplo, através de um web crawler, que é um programa que navega pela web e coleta os dados de interesse. Pode ser feita pelo download de um dataset, como o do Kaggle, ou até mesmo através de uma API.\n",
    "\n",
    "Para o exemplo do livro, estou mostrando duas maneiras, uma através de uma URL e outra através do download de um dataset."
   ]
  },
  {
   "cell_type": "code",
   "execution_count": 15,
   "metadata": {},
   "outputs": [],
   "source": [
    "url = (\"https://hbiostat.org/data/repo/titanic3.csv\")\n",
    "df = pd.read_csv(url)\n",
    "\n",
    "## OU\n",
    "\n",
    "df = pd.read_csv(DATA_FILE)\n"
   ]
  },
  {
   "cell_type": "markdown",
   "metadata": {},
   "source": [
    "Tem-se os seguintes dados:\n",
    "\n",
    "- **pclass**: Classe do passageiro (1 = primeira classe; 2 = segunda classe; 3 = terceira classe)\n",
    "\n",
    "- **survived**: Sobreviveu ou não (0 = Não; 1 = Sim)\n",
    "\n",
    "- **name**: Nome do passageiro\n",
    "\n",
    "- **sex**: Sexo do passageiro\n",
    "\n",
    "- **age**: Idade do passageiro\n",
    "\n",
    "- **sibsp**: Número de irmãos e cônjuges a bordo\n",
    "\n",
    "- **parch**: Número de pais e filhos a bordo\n",
    "\n",
    "- **ticket**: Número do ticket\n",
    "\n",
    "- **fare**: Tarifa do passageiro\n",
    "\n",
    "- **cabin**: Número da cabine\n",
    "\n",
    "- **embarked**: Porto de embarque (C = Cherbourg; Q = Queenstown; S = Southampton)\n",
    "\n",
    "- **boat**: Bote salva-vidas\n",
    "\n",
    "- **body**: Número de identificação do corpo\n",
    "\n",
    "- **home.dest**: Destino"
   ]
  },
  {
   "cell_type": "markdown",
   "metadata": {},
   "source": []
  }
 ],
 "metadata": {
  "kernelspec": {
   "display_name": "base",
   "language": "python",
   "name": "python3"
  },
  "language_info": {
   "codemirror_mode": {
    "name": "ipython",
    "version": 3
   },
   "file_extension": ".py",
   "mimetype": "text/x-python",
   "name": "python",
   "nbconvert_exporter": "python",
   "pygments_lexer": "ipython3",
   "version": "3.11.5"
  }
 },
 "nbformat": 4,
 "nbformat_minor": 2
}
