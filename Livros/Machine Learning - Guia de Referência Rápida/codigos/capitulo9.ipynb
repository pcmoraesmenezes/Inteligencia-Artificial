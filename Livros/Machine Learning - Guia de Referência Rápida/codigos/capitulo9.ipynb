{
 "cells": [
  {
   "cell_type": "markdown",
   "metadata": {},
   "source": [
    "# Classes Desbalanceadas"
   ]
  },
  {
   "cell_type": "markdown",
   "metadata": {},
   "source": [
    "## Upsampling da minoria\n",
    "\n",
    "Upsampling é uma técnica que consiste em aumentar a quantidade de amostras da classe minoritária, para que ela fique balanceada com a classe majoritária. Para isso, é feito uma amostragem com reposição, ou seja, amostras da classe minoritária são duplicadas aleatoriamente até que ela fique com a mesma quantidade de amostras da classe majoritária."
   ]
  },
  {
   "cell_type": "code",
   "execution_count": 2,
   "metadata": {},
   "outputs": [],
   "source": [
    "from sklearn.utils import resample\n",
    "import matplotlib.pyplot as plt\n",
    "import numpy as np\n",
    "import pandas as pd\n",
    "from sklearn.experimental import (\n",
    "    enable_iterative_imputer,\n",
    ")\n",
    "from sklearn import (\n",
    "    ensemble,\n",
    "    impute,\n",
    "    model_selection,    \n",
    "    preprocessing,\n",
    "    tree,\n",
    ")"
   ]
  },
  {
   "cell_type": "code",
   "execution_count": 3,
   "metadata": {},
   "outputs": [],
   "source": [
    "url = (\"https://hbiostat.org/data/repo/titanic3.csv\")\n",
    "df = pd.read_csv(url)\n",
    "orig_df = df"
   ]
  },
  {
   "cell_type": "code",
   "execution_count": 4,
   "metadata": {},
   "outputs": [],
   "source": [
    "def tweak_titanic(df):\n",
    "    df = df.drop(\n",
    "        columns=[\n",
    "            \"name\",\n",
    "            \"ticket\",\n",
    "            \"home.dest\",\n",
    "            \"boat\",\n",
    "            \"body\",\n",
    "            \"cabin\",\n",
    "        ]\n",
    "    ).pipe(pd.get_dummies, drop_first=True)\n",
    "    return df\n",
    "\n",
    "def get_train_test_X_y(\n",
    "    df, y_col, size=0.3, std_cols=None\n",
    ") ->(pd.DataFrame, pd.DataFrame, pd.Series, pd.Series):\n",
    "    y = df[y_col]\n",
    "    X = df.drop(columns=y_col)\n",
    "    X_train, X_test, y_train, y_test = model_selection.train_test_split(\n",
    "        X, y, test_size=size, random_state=42\n",
    "    )\n",
    "    cols = X.columns\n",
    "    num_cols = [\n",
    "        \"pclass\",\n",
    "        \"age\",\n",
    "        \"sibsp\",\n",
    "        \"parch\",\n",
    "        \"fare\",\n",
    "    ]\n",
    "    fi = impute.IterativeImputer()\n",
    "    fitted = fi.fit_transform(X_train[num_cols])\n",
    "    X_train = X_train.assign(**{c:fitted[:,i] for i, c in enumerate(num_cols)})\n",
    "    test_fit = fi.transform(X_test[num_cols])\n",
    "    X_test = X_test.assign(**{c:test_fit[:,i] for i, c in enumerate(num_cols)})\n",
    "    if std_cols:\n",
    "        std = preprocessing.StandardScaler()\n",
    "        fitted = std.fit_transform(X_train[std_cols])\n",
    "        X_train = X_train.assign(**{c:fitted[:,i] for i, c in enumerate(std_cols)})\n",
    "        test_fit = std.transform(X_test[std_cols])\n",
    "        X_test = X_test.assign(**{c:test_fit[:,i] for i, c in enumerate(std_cols)})\n",
    "\n",
    "    return X_train, X_test, y_train, y_test\n",
    "\n",
    "ti_df = tweak_titanic(orig_df)\n",
    "std_cols = \"pclass,age,sibsp,fare\".split(\",\")\n",
    "\n",
    "X_train: pd.DataFrame\n",
    "X_test: pd.DataFrame\n",
    "y_train: pd.Series\n",
    "y_test: pd.Series = get_train_test_X_y(ti_df, \"survived\", std_cols=std_cols)\n",
    "\n",
    "X_train, X_test, y_train, y_test = get_train_test_X_y(ti_df, \"survived\", std_cols=std_cols)\n",
    "\n",
    "X: pd.Series = pd.concat([X_train, X_test])\n",
    "y = pd.concat([y_train, y_test])"
   ]
  },
  {
   "cell_type": "markdown",
   "metadata": {},
   "source": [
    "A função `resample` do `sklearn` faz isso de forma simples. Ela recebe como parâmetro o conjunto de dados e retorna um novo conjunto de dados com a classe minoritária balanceada.\n"
   ]
  },
  {
   "cell_type": "code",
   "execution_count": 5,
   "metadata": {},
   "outputs": [],
   "source": [
    "mask = df.survived == 1\n",
    "surv_df = df[mask]\n",
    "death_df = df[~mask]\n",
    "\n",
    "df_upsampled = resample(\n",
    "    surv_df,\n",
    "    replace=True,\n",
    "    n_samples=len(death_df),\n",
    "    random_state=42,\n",
    ")\n",
    "df2 = pd.concat([death_df, df_upsampled])"
   ]
  },
  {
   "cell_type": "code",
   "execution_count": 6,
   "metadata": {},
   "outputs": [
    {
     "data": {
      "text/plain": [
       "survived\n",
       "0    809\n",
       "1    809\n",
       "Name: count, dtype: int64"
      ]
     },
     "execution_count": 6,
     "metadata": {},
     "output_type": "execute_result"
    }
   ],
   "source": [
    "df2.survived.value_counts()"
   ]
  },
  {
   "cell_type": "code",
   "execution_count": 7,
   "metadata": {},
   "outputs": [],
   "source": [
    "from imblearn.over_sampling import RandomOverSampler"
   ]
  },
  {
   "cell_type": "code",
   "execution_count": 8,
   "metadata": {},
   "outputs": [
    {
     "data": {
      "text/plain": [
       "survived\n",
       "0    809\n",
       "1    809\n",
       "Name: count, dtype: int64"
      ]
     },
     "execution_count": 8,
     "metadata": {},
     "output_type": "execute_result"
    }
   ],
   "source": [
    "ros = RandomOverSampler(random_state=42)\n",
    "X_ros, y_ros = ros.fit_resample(X, y)\n",
    "pd.Series(y_ros).value_counts()"
   ]
  },
  {
   "cell_type": "markdown",
   "metadata": {},
   "source": [
    "### Downsampling da maioria\n",
    "\n",
    "Downsampling é uma técnica que consiste em diminuir a quantidade de amostras da classe majoritária, para que ela fique balanceada com a classe minoritária. Para isso, é feito uma amostragem sem reposição, ou seja, amostras da classe majoritária são removidas aleatoriamente até que ela fique com a mesma quantidade de amostras da classe minoritária."
   ]
  },
  {
   "cell_type": "code",
   "execution_count": 9,
   "metadata": {},
   "outputs": [
    {
     "data": {
      "text/plain": [
       "survived\n",
       "1    500\n",
       "0    500\n",
       "Name: count, dtype: int64"
      ]
     },
     "execution_count": 9,
     "metadata": {},
     "output_type": "execute_result"
    }
   ],
   "source": [
    "from sklearn.utils import resample\n",
    "mask = df.survived == 1\n",
    "surv_df = df[mask]\n",
    "death_df = df[~mask]\n",
    "df_downsampled = resample(\n",
    "    death_df,\n",
    "    replace=False,\n",
    "    n_samples=len(surv_df),\n",
    "    random_state=42,\n",
    ")\n",
    "df3 = pd.concat([surv_df, df_downsampled])\n",
    "df3.survived.value_counts()"
   ]
  },
  {
   "cell_type": "markdown",
   "metadata": {},
   "source": [
    "A biblioteca `imbalanced-learn` também implementa diversos algoritmos de downsampling.\n",
    "\n",
    "`ClusterCentroids` é um algoritmo de downsampling que utiliza o algoritmo de agrupamento K-means para reduzir a quantidade de amostras da classe majoritária. Ele recebe como parâmetro o número de clusters que serão criados e retorna um novo conjunto de dados com a classe majoritária balanceada.\n",
    "\n",
    "`RandomUnderSampler` é um algoritmo de downsampling que remove aleatoriamente amostras da classe majoritária até que ela fique com a mesma quantidade de amostras da classe minoritária. Ele recebe como parâmetro a estratégia de amostragem que será utilizada para remover as amostras da classe majoritária e retorna um novo conjunto de dados com a classe majoritária balanceada.\n",
    "\n",
    "`NearMiss` é um algoritmo de downsampling que remove amostras da classe majoritária baseado na distância entre as amostras da classe majoritária e as amostras da classe minoritária. Ele recebe como parâmetro a estratégia de amostragem que será utilizada para remover as amostras da classe majoritária e retorna um novo conjunto de dados com a classe majoritária balanceada.\n",
    "\n",
    "`TomekLinks` reduz as amostras removendo os mais próximos vizinhos da classe majoritária. Ele recebe como parâmetro o conjunto de dados e retorna um novo conjunto de dados com a classe majoritária balanceada.\n",
    "\n",
    "`EditedNearestNeighbours` reduz as amostras removendo os vizinhos da classe majoritária que não são bem classificados. Ele recebe como parâmetro o conjunto de dados e retorna um novo conjunto de dados com a classe majoritária balanceada.\n",
    "\n",
    "`RepeatedEditedNearestNeighbours` reduz as amostras removendo os vizinhos da classe majoritária que não são bem classificados. Ele recebe como parâmetro o conjunto de dados e retorna um novo conjunto de dados com a classe majoritária balanceada. Essa classe chamada `Repeated` faz com que o algoritmo seja executado várias vezes, para que o resultado seja mais preciso.\n",
    "\n",
    "`AllKNN` reduz as amostras removendo os vizinhos da classe majoritária que não são bem classificados. Ele recebe como parâmetro o conjunto de dados e retorna um novo conjunto de dados com a classe majoritária balanceada. A diferença desse algoritmo para o `EditedNearestNeighbours` é que ele utiliza todos os vizinhos para remover as amostras da classe majoritária.\n",
    "\n",
    "`CondensedNearestNeighbour` reduz as amostras removendo as amostras da classe majoritária que podem ser bem classificadas pelos vizinhos da classe minoritária. Ele recebe como parâmetro o conjunto de dados e retorna um novo conjunto de dados com a classe majoritária balanceada. Se KNN não fizer uma classificação incorreta, a amostra é adicionada ao conjunto de dados.\n",
    "\n",
    "`OneSidedSelection` Remove amostras com ruídos\n",
    "\n",
    "`NeighbourhoodCleaningRule` Usa resultados de `EditedNearestNeighbours` e `CondensedNearestNeighbour` para aplicar KNN\n",
    "\n",
    "`InstanceHardnessThreshold` Usa um classificador para remover amostras com baixa probabilidade de serem bem classificadas\n",
    "\n",
    "Todas as classes de downsampling recebem como parâmetro o conjunto de dados e retornam um novo conjunto de dados com a classe majoritária balanceada.\n",
    "\n",
    "É possivel usar o metodo `fit_sample` para aplicar o algoritmo de downsampling e retornar o conjunto de dados balanceado."
   ]
  }
 ],
 "metadata": {
  "kernelspec": {
   "display_name": "base",
   "language": "python",
   "name": "python3"
  },
  "language_info": {
   "codemirror_mode": {
    "name": "ipython",
    "version": 3
   },
   "file_extension": ".py",
   "mimetype": "text/x-python",
   "name": "python",
   "nbconvert_exporter": "python",
   "pygments_lexer": "ipython3",
   "version": "3.11.5"
  }
 },
 "nbformat": 4,
 "nbformat_minor": 2
}
